{
  "nbformat": 4,
  "nbformat_minor": 0,
  "metadata": {
    "colab": {
      "name": "Socket_Programming_server.ipynb",
      "version": "0.3.2",
      "provenance": [],
      "collapsed_sections": []
    },
    "kernelspec": {
      "name": "python3",
      "display_name": "Python 3"
    }
  },
  "cells": [
    {
      "metadata": {
        "id": "D5YWJoIfXuVX",
        "colab_type": "text"
      },
      "cell_type": "markdown",
      "source": [
        "# ***`Socket Programming in Python`***\n",
        "Sockets are the endpoints of a bidirectional communications channel. Sockets may communicate within a process, between processes on the same machine, or between processes on different continents.\n",
        "\n",
        "Socket programming is one of the most fundamental technologies of computer network programming .It  is a way of connecting two nodes on a network to communicate with each other.\n",
        "\n",
        "One socket(node) listens on a particular port at an IP, while other socket reaches out to the other to form a connection. \n",
        "\n",
        "Server forms the listener socket while client reaches out to the server.\n",
        "\n",
        "---\n",
        "\n",
        "\n",
        "Socket programming is started by importing the socket library and making a simple socket.\n",
        "\n",
        "\n",
        "\n",
        "```\n",
        "import socket\n",
        "s = socket.socket(socket.AF_INET, socket.SOCK_STREAM)\n",
        "```\n",
        "\n",
        "\n",
        "---\n",
        "\n",
        "*Here we made a socket instance and passed it two parameters. The first parameter is AF_INET and the second one is SOCK_STREAM. AF_INET refers to the address family ipv4. The SOCK_STREAM means connection oriented TCP protocol.Now we can connect to a server using this socket.*\n",
        "\n"
      ]
    },
    {
      "metadata": {
        "id": "yjRCcfZ_YhPN",
        "colab_type": "text"
      },
      "cell_type": "markdown",
      "source": [
        "# **A simple server program :**"
      ]
    },
    {
      "metadata": {
        "id": "ux62btD2a8Zo",
        "colab_type": "text"
      },
      "cell_type": "markdown",
      "source": [
        "# **Server :**\n",
        "To write Internet servers, we use the socket function available in socket module to create a socket object. A socket object is then used to call other functions to setup a socket server.\n",
        "\n",
        "Now call bind(hostname, port) function to specify a port for your service on the given host.\n",
        "\n",
        "Next, call the accept method of the returned object. This method waits until a client connects to the port you specified, and then returns a connection object that represents the connection to that client as:\n",
        "\n",
        "\n",
        "---\n",
        "\n",
        "\n",
        "```\n",
        "1. First of all we import socket which is necessary.\n",
        "\n",
        "2. Then we made a socket object and reserved a port on our pc.\n",
        "\n",
        "3. After that we binded our server to the specified port. Passing an empty string  means that the server can listen to incoming connections from other computers    as well. If we would have passed 27.34.69.13 then it would have listened to only those calls made within the local computer.\n",
        "\n",
        "4. After that we put the server into listen mode.5 here means that 5 connections are kept waiting if the server is busy and if a 6th socket trys to connect then the connection is refused.\n",
        "\n",
        "5. At last we make a while loop and start to accept all incoming connections and close those connections after a thank you message to all connected sockets.\n",
        "```\n",
        "\n",
        "\n",
        "\n"
      ]
    },
    {
      "metadata": {
        "id": "jxXVeh-1aYVa",
        "colab_type": "code",
        "outputId": "15702789-1385-4d2f-c5f4-536c19b51aed",
        "colab": {
          "base_uri": "https://localhost:8080/",
          "height": 187
        }
      },
      "cell_type": "code",
      "source": [
        "import socket\n",
        "LOCALHOST =socket.gethostname()\n",
        "PORT = 80\n",
        "s = socket.socket(socket.AF_INET, socket.SOCK_STREAM)\n",
        "s.bind((LOCALHOST, PORT))\n",
        "s.listen(5)\n",
        "print(\"Server started\")\n",
        "print(\"Waiting for client request..\")\n",
        "clientConnection,clientAddress = s.accept()\n",
        "print(\"Connected clinet :\" , clientAddress)\n",
        "msg = ''\n",
        "while True:\n",
        "  in_data = clientConnection.recv(1024)\n",
        "  msg = in_data.decode()\n",
        "  if msg=='bye':\n",
        "    break\n",
        "  print(\"From Client :\" , msg)\n",
        "  out_data = input()\n",
        "  clientConnection.send(bytes(out_data,'UTF-8'))\n",
        "print(\"Client disconnected....\")\n",
        "clientConnection.close()"
      ],
      "execution_count": 2,
      "outputs": [
        {
          "output_type": "stream",
          "text": [
            "Server started\n",
            "Waiting for client request..\n",
            "Connected clinet : ('172.28.0.2', 40704)\n",
            "From Client : This is from Client\n",
            "Hello i am Server \n",
            "From Client : Hello i am client\n",
            "Are we connected ? \n",
            "From Client : yeah ! I can talk with you.\n",
            "well ,see you . Bye\n",
            "Client disconnected....\n"
          ],
          "name": "stdout"
        }
      ]
    },
    {
      "metadata": {
        "id": "S9bLZzZl7pdE",
        "colab_type": "code",
        "colab": {}
      },
      "cell_type": "code",
      "source": [
        ""
      ],
      "execution_count": 0,
      "outputs": []
    }
  ]
}