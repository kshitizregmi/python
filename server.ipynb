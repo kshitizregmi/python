{
 "cells": [
  {
   "cell_type": "code",
   "execution_count": null,
   "metadata": {},
   "outputs": [
    {
     "name": "stdout",
     "output_type": "stream",
     "text": [
      "Recived from client:  Hello Server .\n",
      "Enter a message to send: Hello Client\n",
      "Recived from client:  We are connected.\n",
      "Enter a message to send: yes\n"
     ]
    }
   ],
   "source": [
    "import socket\n",
    "\n",
    "HOST = '127.0.0.1'  # Standard loopback interface address (localhost)\n",
    "PORT = 65432        # Port to listen on (non-privileged ports are > 1023)\n",
    "s = socket.socket(socket.AF_INET, socket.SOCK_STREAM)\n",
    "s.bind((HOST, PORT))\n",
    "s.listen()\n",
    "\n",
    "\n",
    "conn, addr = s.accept()\n",
    "x = True\n",
    "\n",
    "\n",
    "while x:\n",
    "    indata = conn.recv(1024)\n",
    "    print(\"Recived from client: \" ,indata.decode())\n",
    "    dat = input(\"Enter a message to send: \")\n",
    "    if dat == \"\":\n",
    "        x = False\n",
    "    else:\n",
    "        conn.sendall(bytes(dat,'UTF-8'))"
   ]
  },
  {
   "cell_type": "code",
   "execution_count": null,
   "metadata": {},
   "outputs": [],
   "source": []
  }
 ],
 "metadata": {
  "kernelspec": {
   "display_name": "Python 3",
   "language": "python",
   "name": "python3"
  },
  "language_info": {
   "codemirror_mode": {
    "name": "ipython",
    "version": 3
   },
   "file_extension": ".py",
   "mimetype": "text/x-python",
   "name": "python",
   "nbconvert_exporter": "python",
   "pygments_lexer": "ipython3",
   "version": "3.7.1"
  }
 },
 "nbformat": 4,
 "nbformat_minor": 2
}
