{
  "nbformat": 4,
  "nbformat_minor": 0,
  "metadata": {
    "colab": {
      "name": "Socket_Programming_Client.ipynb",
      "version": "0.3.2",
      "provenance": [],
      "collapsed_sections": []
    },
    "kernelspec": {
      "name": "python3",
      "display_name": "Python 3"
    }
  },
  "cells": [
    {
      "metadata": {
        "id": "cETJR_1njQVy",
        "colab_type": "text"
      },
      "cell_type": "markdown",
      "source": [
        "# **Socket_Programming_Client**\n",
        "Let us write a very simple client program which opens a connection to a given port 12345 and given host. This is very simple to create a socket client using Python's socket module function.\n",
        "\n",
        "The socket.connect(hosname, port ) opens a TCP connection to hostname on the port. Once you have a socket open, you can read from it like any IO object. When done, remember to close it, as you would close a file.\n",
        "\n",
        "The following code is a very simple client that connects to a given host and port, reads any available data from the socket, and then exits −\n",
        "\n",
        "---\n",
        "\n",
        "\n",
        "\n",
        "```\n",
        "1. First of all we make a socket object.\n",
        "\n",
        "2. Then we connect to localhost on port 12345 (the port on which our server runs) and lastly we receive data from the server and close the connection.\n",
        "\n",
        "3. Now save this file as Socket_Programming_Client.ipynb and run it from the terminal after starting the server script.\n",
        "```\n",
        "\n"
      ]
    },
    {
      "metadata": {
        "id": "0-OxzNT3jyLp",
        "colab_type": "code",
        "outputId": "ff49f2c0-4390-4730-e975-b60baae353de",
        "colab": {
          "base_uri": "https://localhost:8080/",
          "height": 119
        }
      },
      "cell_type": "code",
      "source": [
        "import socket\n",
        "SERVER = socket.gethostname()\n",
        "PORT = 808\n",
        "s = socket.socket(socket.AF_INET, socket.SOCK_STREAM)\n",
        "s.connect((SERVER, PORT))\n",
        "s.sendall(bytes(\"This is from Client\",'UTF-8'))\n",
        "while True:\n",
        "  in_data =  s.recv(1024)\n",
        "  print(\"From Server :\" ,in_data.decode())\n",
        "  out_data = input()\n",
        "  s.sendall(bytes(out_data,'UTF-8'))\n",
        "  if out_data=='bye':\n",
        "    break\n",
        "s.close()"
      ],
      "execution_count": 1,
      "outputs": [
        {
          "output_type": "stream",
          "text": [
            "From Server : hello world !\n",
            "hello i am client talking\n",
            "From Server : I am server\n",
            "ok sure \n",
            "From Server : bye\n",
            "bye\n"
          ],
          "name": "stdout"
        }
      ]
    },
    {
      "metadata": {
        "id": "dJAy76Cm3e87",
        "colab_type": "code",
        "colab": {}
      },
      "cell_type": "code",
      "source": [
        ""
      ],
      "execution_count": 0,
      "outputs": []
    }
  ]
}