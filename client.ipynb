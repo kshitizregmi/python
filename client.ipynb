{
 "cells": [
  {
   "cell_type": "code",
   "execution_count": 3,
   "metadata": {},
   "outputs": [
    {
     "name": "stdout",
     "output_type": "stream",
     "text": [
      "Enter a message to send: Hello Server .\n",
      "Received from server: b'Hello Client'\n",
      "Enter a message to send: We are connected.\n",
      "Received from server: b'yes'\n",
      "Enter a message to send: \n"
     ]
    }
   ],
   "source": [
    "import socket\n",
    "\n",
    "HOST = '127.0.0.1'  # The server's hostname or IP address\n",
    "PORT = 65432        # The port used by the server\n",
    "x = True\n",
    "s = socket.socket(socket.AF_INET, socket.SOCK_STREAM)\n",
    "s.connect((HOST, PORT))\n",
    "\n",
    "\n",
    "while(x):\n",
    "    \n",
    "    dat = input(\"Enter a message to send: \")\n",
    "    if dat == \"\":\n",
    "        x = False\n",
    "    else:\n",
    "        s.sendall(bytes(dat,'UTF-8'))\n",
    "        data = s.recv(1024)\n",
    "        print('Received from server:', repr(data))"
   ]
  },
  {
   "cell_type": "code",
   "execution_count": null,
   "metadata": {},
   "outputs": [],
   "source": []
  }
 ],
 "metadata": {
  "kernelspec": {
   "display_name": "Python 3",
   "language": "python",
   "name": "python3"
  },
  "language_info": {
   "codemirror_mode": {
    "name": "ipython",
    "version": 3
   },
   "file_extension": ".py",
   "mimetype": "text/x-python",
   "name": "python",
   "nbconvert_exporter": "python",
   "pygments_lexer": "ipython3",
   "version": "3.7.1"
  }
 },
 "nbformat": 4,
 "nbformat_minor": 2
}
